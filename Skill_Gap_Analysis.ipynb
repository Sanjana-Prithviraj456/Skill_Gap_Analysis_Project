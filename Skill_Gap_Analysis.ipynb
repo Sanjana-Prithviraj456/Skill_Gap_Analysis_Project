{
 "cells": [
  {
   "cell_type": "markdown",
   "id": "d08375d2",
   "metadata": {},
   "source": [
    "# ** SKILL GAP ANALYSIS **"
   ]
  },
  {
   "cell_type": "code",
   "execution_count": 1,
   "id": "bc5a6f2e",
   "metadata": {},
   "outputs": [],
   "source": [
    "# Import data manipulation library\n",
    "import pandas as pd\n",
    "import numpy as np\n",
    "\n",
    "# import data visualization library\n",
    "import matplotlib.pyplot as plt\n",
    "import seaborn as sns\n",
    "\n",
    "# import warnings\n",
    "import warnings\n",
    "warnings.filterwarnings(\"ignore\")"
   ]
  },
  {
   "cell_type": "code",
   "execution_count": 2,
   "id": "afaba32a",
   "metadata": {},
   "outputs": [],
   "source": [
    "# import file\n",
    "df = pd.read_csv(\"skill gap analysis response csv.csv\")"
   ]
  },
  {
   "cell_type": "code",
   "execution_count": 3,
   "id": "e6114c76",
   "metadata": {},
   "outputs": [
    {
     "data": {
      "text/html": [
       "<div>\n",
       "<style scoped>\n",
       "    .dataframe tbody tr th:only-of-type {\n",
       "        vertical-align: middle;\n",
       "    }\n",
       "\n",
       "    .dataframe tbody tr th {\n",
       "        vertical-align: top;\n",
       "    }\n",
       "\n",
       "    .dataframe thead th {\n",
       "        text-align: right;\n",
       "    }\n",
       "</style>\n",
       "<table border=\"1\" class=\"dataframe\">\n",
       "  <thead>\n",
       "    <tr style=\"text-align: right;\">\n",
       "      <th></th>\n",
       "      <th>Full Name</th>\n",
       "      <th>Age</th>\n",
       "      <th>Current status</th>\n",
       "      <th>Degree/Program</th>\n",
       "      <th>Field / Domain of interest</th>\n",
       "      <th>Have you completed any internships or real-world projects?</th>\n",
       "      <th>How would you rate your technical skills</th>\n",
       "      <th>How would you rate your communication skills</th>\n",
       "      <th>How confident are you in attending interviews?</th>\n",
       "      <th>Do you feel your degree prepared you for jobs?</th>\n",
       "      <th>Have you attended any mock interviews or job preparation sessions?</th>\n",
       "      <th>Have you taken any certification courses or self-learning?</th>\n",
       "      <th>Do you think companies should test more on skills than degrees?</th>\n",
       "      <th>What is your biggest challenge in getting a job?</th>\n",
       "      <th>What would help you the most right now?</th>\n",
       "      <th>Any suggestions for colleges, training institutes, or job platforms to help improve student and job-seeker readiness?</th>\n",
       "    </tr>\n",
       "  </thead>\n",
       "  <tbody>\n",
       "    <tr>\n",
       "      <th>38</th>\n",
       "      <td>Disha Mangesh Suryawanshi</td>\n",
       "      <td>18 - 25</td>\n",
       "      <td>Recently graduated</td>\n",
       "      <td>BCA</td>\n",
       "      <td>Data Science / Analytics</td>\n",
       "      <td>No</td>\n",
       "      <td>4</td>\n",
       "      <td>5</td>\n",
       "      <td>4</td>\n",
       "      <td>Partially</td>\n",
       "      <td>No</td>\n",
       "      <td>Yes</td>\n",
       "      <td>Yes</td>\n",
       "      <td>Lack of experience</td>\n",
       "      <td>Technical training, Internship/project experience</td>\n",
       "      <td>NaN</td>\n",
       "    </tr>\n",
       "    <tr>\n",
       "      <th>43</th>\n",
       "      <td>Surya</td>\n",
       "      <td>18 - 25</td>\n",
       "      <td>Final year student</td>\n",
       "      <td>BE</td>\n",
       "      <td>IT/ Software</td>\n",
       "      <td>Yes</td>\n",
       "      <td>4</td>\n",
       "      <td>4</td>\n",
       "      <td>3</td>\n",
       "      <td>Partially</td>\n",
       "      <td>Yes</td>\n",
       "      <td>Yes</td>\n",
       "      <td>Yes</td>\n",
       "      <td>Fear of interviews</td>\n",
       "      <td>Resume/interview preparation</td>\n",
       "      <td>NaN</td>\n",
       "    </tr>\n",
       "    <tr>\n",
       "      <th>65</th>\n",
       "      <td>Suma</td>\n",
       "      <td>18 - 25</td>\n",
       "      <td>Final year student</td>\n",
       "      <td>BBM</td>\n",
       "      <td>Marketing</td>\n",
       "      <td>No</td>\n",
       "      <td>3</td>\n",
       "      <td>4</td>\n",
       "      <td>3</td>\n",
       "      <td>Yes</td>\n",
       "      <td>No</td>\n",
       "      <td>No</td>\n",
       "      <td>No</td>\n",
       "      <td>Lack of technical skills</td>\n",
       "      <td>Technical training</td>\n",
       "      <td>NaN</td>\n",
       "    </tr>\n",
       "    <tr>\n",
       "      <th>34</th>\n",
       "      <td>Shadaf sanadi</td>\n",
       "      <td>18 - 25</td>\n",
       "      <td>Working professional (less than 2 years of exp...</td>\n",
       "      <td>BE</td>\n",
       "      <td>Data Science / Analytics</td>\n",
       "      <td>Yes</td>\n",
       "      <td>5</td>\n",
       "      <td>5</td>\n",
       "      <td>5</td>\n",
       "      <td>No</td>\n",
       "      <td>No</td>\n",
       "      <td>Yes</td>\n",
       "      <td>Yes</td>\n",
       "      <td>Weak resume</td>\n",
       "      <td>Technical training, Communication/soft skills</td>\n",
       "      <td>Ntg</td>\n",
       "    </tr>\n",
       "    <tr>\n",
       "      <th>53</th>\n",
       "      <td>Surya Gowda</td>\n",
       "      <td>18 - 25</td>\n",
       "      <td>Final year student</td>\n",
       "      <td>BE(Computer Science)</td>\n",
       "      <td>IT/ Software</td>\n",
       "      <td>Yes</td>\n",
       "      <td>4</td>\n",
       "      <td>4</td>\n",
       "      <td>4</td>\n",
       "      <td>Partially</td>\n",
       "      <td>Yes</td>\n",
       "      <td>Yes</td>\n",
       "      <td>Yes</td>\n",
       "      <td>Lack of Opportunities</td>\n",
       "      <td>Mentorship/guidance</td>\n",
       "      <td>NaN</td>\n",
       "    </tr>\n",
       "    <tr>\n",
       "      <th>...</th>\n",
       "      <td>...</td>\n",
       "      <td>...</td>\n",
       "      <td>...</td>\n",
       "      <td>...</td>\n",
       "      <td>...</td>\n",
       "      <td>...</td>\n",
       "      <td>...</td>\n",
       "      <td>...</td>\n",
       "      <td>...</td>\n",
       "      <td>...</td>\n",
       "      <td>...</td>\n",
       "      <td>...</td>\n",
       "      <td>...</td>\n",
       "      <td>...</td>\n",
       "      <td>...</td>\n",
       "      <td>...</td>\n",
       "    </tr>\n",
       "    <tr>\n",
       "      <th>51</th>\n",
       "      <td>Anil Kumar</td>\n",
       "      <td>18 - 25</td>\n",
       "      <td>Recently graduated</td>\n",
       "      <td>BCA</td>\n",
       "      <td>Data Science / Analytics</td>\n",
       "      <td>No</td>\n",
       "      <td>3</td>\n",
       "      <td>3</td>\n",
       "      <td>3</td>\n",
       "      <td>Partially</td>\n",
       "      <td>No</td>\n",
       "      <td>No</td>\n",
       "      <td>No</td>\n",
       "      <td>Lack of technical skills</td>\n",
       "      <td>Technical training</td>\n",
       "      <td>NaN</td>\n",
       "    </tr>\n",
       "    <tr>\n",
       "      <th>4</th>\n",
       "      <td>Aditya Chandgude</td>\n",
       "      <td>18 - 25</td>\n",
       "      <td>Recently graduated, Looking for a job (fresher)</td>\n",
       "      <td>E commerce and digital marketing and business ...</td>\n",
       "      <td>Data Science / Analytics, Marketing</td>\n",
       "      <td>Yes</td>\n",
       "      <td>4</td>\n",
       "      <td>5</td>\n",
       "      <td>5</td>\n",
       "      <td>Partially</td>\n",
       "      <td>Yes</td>\n",
       "      <td>Yes</td>\n",
       "      <td>Yes</td>\n",
       "      <td>Lack of experience</td>\n",
       "      <td>Resume/interview preparation, Internship/proje...</td>\n",
       "      <td>NaN</td>\n",
       "    </tr>\n",
       "    <tr>\n",
       "      <th>78</th>\n",
       "      <td>Rutvi Saraf</td>\n",
       "      <td>26 - 35</td>\n",
       "      <td>Looking for a job (experienced)</td>\n",
       "      <td>MBA</td>\n",
       "      <td>Finance</td>\n",
       "      <td>Yes</td>\n",
       "      <td>4</td>\n",
       "      <td>4</td>\n",
       "      <td>4</td>\n",
       "      <td>Partially</td>\n",
       "      <td>Yes</td>\n",
       "      <td>No</td>\n",
       "      <td>Yes</td>\n",
       "      <td>Lack of technical skills</td>\n",
       "      <td>Technical training</td>\n",
       "      <td>NaN</td>\n",
       "    </tr>\n",
       "    <tr>\n",
       "      <th>58</th>\n",
       "      <td>Veena</td>\n",
       "      <td>18 - 25</td>\n",
       "      <td>Final year student</td>\n",
       "      <td>B.Tech</td>\n",
       "      <td>IT/ Software</td>\n",
       "      <td>Yes</td>\n",
       "      <td>4</td>\n",
       "      <td>3</td>\n",
       "      <td>4</td>\n",
       "      <td>Partially</td>\n",
       "      <td>Yes</td>\n",
       "      <td>Yes</td>\n",
       "      <td>Yes</td>\n",
       "      <td>Poor communication/confidence</td>\n",
       "      <td>Communication/soft skills</td>\n",
       "      <td>Give training on Communication / Soft skill , ...</td>\n",
       "    </tr>\n",
       "    <tr>\n",
       "      <th>75</th>\n",
       "      <td>Keerthana</td>\n",
       "      <td>26 - 35</td>\n",
       "      <td>Working professional (less than 2 years of exp...</td>\n",
       "      <td>BA</td>\n",
       "      <td>Data Science / Analytics</td>\n",
       "      <td>Yes</td>\n",
       "      <td>4</td>\n",
       "      <td>3</td>\n",
       "      <td>4</td>\n",
       "      <td>Partially</td>\n",
       "      <td>Yes</td>\n",
       "      <td>Yes</td>\n",
       "      <td>Yes</td>\n",
       "      <td>Poor communication/confidence</td>\n",
       "      <td>Technical training, Communication/soft skills</td>\n",
       "      <td>NaN</td>\n",
       "    </tr>\n",
       "  </tbody>\n",
       "</table>\n",
       "<p>81 rows × 16 columns</p>\n",
       "</div>"
      ],
      "text/plain": [
       "                     Full Name      Age  \\\n",
       "38  Disha Mangesh Suryawanshi   18 - 25   \n",
       "43                      Surya   18 - 25   \n",
       "65                        Suma  18 - 25   \n",
       "34              Shadaf sanadi   18 - 25   \n",
       "53                 Surya Gowda  18 - 25   \n",
       "..                         ...      ...   \n",
       "51                  Anil Kumar  18 - 25   \n",
       "4            Aditya Chandgude   18 - 25   \n",
       "78                 Rutvi Saraf  26 - 35   \n",
       "58                       Veena  18 - 25   \n",
       "75                   Keerthana  26 - 35   \n",
       "\n",
       "                                       Current status  \\\n",
       "38                                 Recently graduated   \n",
       "43                                 Final year student   \n",
       "65                                 Final year student   \n",
       "34  Working professional (less than 2 years of exp...   \n",
       "53                                 Final year student   \n",
       "..                                                ...   \n",
       "51                                 Recently graduated   \n",
       "4     Recently graduated, Looking for a job (fresher)   \n",
       "78                    Looking for a job (experienced)   \n",
       "58                                 Final year student   \n",
       "75  Working professional (less than 2 years of exp...   \n",
       "\n",
       "                                     Degree/Program    \\\n",
       "38                                                BCA   \n",
       "43                                                 BE   \n",
       "65                                                BBM   \n",
       "34                                                 BE   \n",
       "53                               BE(Computer Science)   \n",
       "..                                                ...   \n",
       "51                                                BCA   \n",
       "4   E commerce and digital marketing and business ...   \n",
       "78                                                MBA   \n",
       "58                                             B.Tech   \n",
       "75                                                 BA   \n",
       "\n",
       "           Field / Domain of interest    \\\n",
       "38             Data Science / Analytics   \n",
       "43                         IT/ Software   \n",
       "65                            Marketing   \n",
       "34             Data Science / Analytics   \n",
       "53                         IT/ Software   \n",
       "..                                  ...   \n",
       "51             Data Science / Analytics   \n",
       "4   Data Science / Analytics, Marketing   \n",
       "78                              Finance   \n",
       "58                         IT/ Software   \n",
       "75             Data Science / Analytics   \n",
       "\n",
       "     Have you completed any internships or real-world projects?    \\\n",
       "38                                                 No               \n",
       "43                                                Yes               \n",
       "65                                                 No               \n",
       "34                                                Yes               \n",
       "53                                                Yes               \n",
       "..                                                ...               \n",
       "51                                                 No               \n",
       "4                                                 Yes               \n",
       "78                                                Yes               \n",
       "58                                                Yes               \n",
       "75                                                Yes               \n",
       "\n",
       "    How would you rate your technical skills    \\\n",
       "38                                           4   \n",
       "43                                           4   \n",
       "65                                           3   \n",
       "34                                           5   \n",
       "53                                           4   \n",
       "..                                         ...   \n",
       "51                                           3   \n",
       "4                                            4   \n",
       "78                                           4   \n",
       "58                                           4   \n",
       "75                                           4   \n",
       "\n",
       "    How would you rate your communication skills   \\\n",
       "38                                              5   \n",
       "43                                              4   \n",
       "65                                              4   \n",
       "34                                              5   \n",
       "53                                              4   \n",
       "..                                            ...   \n",
       "51                                              3   \n",
       "4                                               5   \n",
       "78                                              4   \n",
       "58                                              3   \n",
       "75                                              3   \n",
       "\n",
       "      How confident are you in attending interviews?    \\\n",
       "38                                                  4    \n",
       "43                                                  3    \n",
       "65                                                  3    \n",
       "34                                                  5    \n",
       "53                                                  4    \n",
       "..                                                ...    \n",
       "51                                                  3    \n",
       "4                                                   5    \n",
       "78                                                  4    \n",
       "58                                                  4    \n",
       "75                                                  4    \n",
       "\n",
       "   Do you feel your degree prepared you for jobs?  \\\n",
       "38                                      Partially   \n",
       "43                                      Partially   \n",
       "65                                            Yes   \n",
       "34                                             No   \n",
       "53                                      Partially   \n",
       "..                                            ...   \n",
       "51                                      Partially   \n",
       "4                                       Partially   \n",
       "78                                      Partially   \n",
       "58                                      Partially   \n",
       "75                                      Partially   \n",
       "\n",
       "     Have you attended any mock interviews or job preparation sessions?    \\\n",
       "38                                                 No                       \n",
       "43                                                Yes                       \n",
       "65                                                 No                       \n",
       "34                                                 No                       \n",
       "53                                                Yes                       \n",
       "..                                                ...                       \n",
       "51                                                 No                       \n",
       "4                                                 Yes                       \n",
       "78                                                Yes                       \n",
       "58                                                Yes                       \n",
       "75                                                Yes                       \n",
       "\n",
       "     Have you taken any certification courses or self-learning?    \\\n",
       "38                                                Yes               \n",
       "43                                                Yes               \n",
       "65                                                 No               \n",
       "34                                                Yes               \n",
       "53                                                Yes               \n",
       "..                                                ...               \n",
       "51                                                 No               \n",
       "4                                                 Yes               \n",
       "78                                                 No               \n",
       "58                                                Yes               \n",
       "75                                                Yes               \n",
       "\n",
       "    Do you think companies should test more on skills than degrees?    \\\n",
       "38                                                Yes                   \n",
       "43                                                Yes                   \n",
       "65                                                 No                   \n",
       "34                                                Yes                   \n",
       "53                                                Yes                   \n",
       "..                                                ...                   \n",
       "51                                                 No                   \n",
       "4                                                 Yes                   \n",
       "78                                                Yes                   \n",
       "58                                                Yes                   \n",
       "75                                                Yes                   \n",
       "\n",
       "     What is your biggest challenge in getting a job?    \\\n",
       "38                                 Lack of experience     \n",
       "43                                 Fear of interviews     \n",
       "65                           Lack of technical skills     \n",
       "34                                        Weak resume     \n",
       "53                             Lack of Opportunities      \n",
       "..                                                ...     \n",
       "51                           Lack of technical skills     \n",
       "4                                  Lack of experience     \n",
       "78                           Lack of technical skills     \n",
       "58                      Poor communication/confidence     \n",
       "75                      Poor communication/confidence     \n",
       "\n",
       "            What would help you the most right now?    \\\n",
       "38  Technical training, Internship/project experience   \n",
       "43                       Resume/interview preparation   \n",
       "65                                 Technical training   \n",
       "34      Technical training, Communication/soft skills   \n",
       "53                                Mentorship/guidance   \n",
       "..                                                ...   \n",
       "51                                 Technical training   \n",
       "4   Resume/interview preparation, Internship/proje...   \n",
       "78                                 Technical training   \n",
       "58                          Communication/soft skills   \n",
       "75      Technical training, Communication/soft skills   \n",
       "\n",
       "     Any suggestions for colleges, training institutes, or job platforms to help improve student and job-seeker readiness?    \n",
       "38                                                NaN                                                                         \n",
       "43                                                NaN                                                                         \n",
       "65                                                NaN                                                                         \n",
       "34                                                Ntg                                                                         \n",
       "53                                                NaN                                                                         \n",
       "..                                                ...                                                                         \n",
       "51                                                NaN                                                                         \n",
       "4                                                 NaN                                                                         \n",
       "78                                                NaN                                                                         \n",
       "58  Give training on Communication / Soft skill , ...                                                                         \n",
       "75                                                NaN                                                                         \n",
       "\n",
       "[81 rows x 16 columns]"
      ]
     },
     "execution_count": 3,
     "metadata": {},
     "output_type": "execute_result"
    }
   ],
   "source": [
    "df.sample(frac=1)"
   ]
  },
  {
   "cell_type": "code",
   "execution_count": 4,
   "id": "57863a1d",
   "metadata": {},
   "outputs": [
    {
     "name": "stdout",
     "output_type": "stream",
     "text": [
      "<class 'pandas.core.frame.DataFrame'>\n",
      "RangeIndex: 81 entries, 0 to 80\n",
      "Data columns (total 16 columns):\n",
      " #   Column                                                                                                                     Non-Null Count  Dtype \n",
      "---  ------                                                                                                                     --------------  ----- \n",
      " 0   Full Name                                                                                                                  76 non-null     object\n",
      " 1   Age                                                                                                                        81 non-null     object\n",
      " 2   Current status                                                                                                             81 non-null     object\n",
      " 3   Degree/Program                                                                                                             81 non-null     object\n",
      " 4   Field / Domain of interest                                                                                                 81 non-null     object\n",
      " 5     Have you completed any internships or real-world projects?                                                               81 non-null     object\n",
      " 6   How would you rate your technical skills                                                                                   81 non-null     int64 \n",
      " 7   How would you rate your communication skills                                                                               81 non-null     int64 \n",
      " 8     How confident are you in attending interviews?                                                                           81 non-null     int64 \n",
      " 9   Do you feel your degree prepared you for jobs?                                                                             81 non-null     object\n",
      " 10    Have you attended any mock interviews or job preparation sessions?                                                       81 non-null     object\n",
      " 11    Have you taken any certification courses or self-learning?                                                               81 non-null     object\n",
      " 12   Do you think companies should test more on skills than degrees?                                                           81 non-null     object\n",
      " 13    What is your biggest challenge in getting a job?                                                                         80 non-null     object\n",
      " 14    What would help you the most right now?                                                                                  81 non-null     object\n",
      " 15    Any suggestions for colleges, training institutes, or job platforms to help improve student and job-seeker readiness?    27 non-null     object\n",
      "dtypes: int64(3), object(13)\n",
      "memory usage: 10.3+ KB\n"
     ]
    }
   ],
   "source": [
    "# Checking dataset information\n",
    "df.info()"
   ]
  },
  {
   "cell_type": "code",
   "execution_count": 5,
   "id": "c794cfed",
   "metadata": {},
   "outputs": [
    {
     "data": {
      "text/plain": [
       "Full Name                                                                                                                     6.172840\n",
       "Age                                                                                                                           0.000000\n",
       "Current status                                                                                                                0.000000\n",
       "Degree/Program                                                                                                                0.000000\n",
       "Field / Domain of interest                                                                                                    0.000000\n",
       "  Have you completed any internships or real-world projects?                                                                  0.000000\n",
       "How would you rate your technical skills                                                                                      0.000000\n",
       "How would you rate your communication skills                                                                                  0.000000\n",
       "  How confident are you in attending interviews?                                                                              0.000000\n",
       "Do you feel your degree prepared you for jobs?                                                                                0.000000\n",
       "  Have you attended any mock interviews or job preparation sessions?                                                          0.000000\n",
       "  Have you taken any certification courses or self-learning?                                                                  0.000000\n",
       " Do you think companies should test more on skills than degrees?                                                              0.000000\n",
       "  What is your biggest challenge in getting a job?                                                                            1.234568\n",
       "  What would help you the most right now?                                                                                     0.000000\n",
       "  Any suggestions for colleges, training institutes, or job platforms to help improve student and job-seeker readiness?      66.666667\n",
       "dtype: float64"
      ]
     },
     "execution_count": 5,
     "metadata": {},
     "output_type": "execute_result"
    }
   ],
   "source": [
    "# finding missing values\n",
    "df.isnull().sum()/len(df)*100"
   ]
  },
  {
   "cell_type": "code",
   "execution_count": 6,
   "id": "3988a418",
   "metadata": {},
   "outputs": [],
   "source": [
    "df.drop(columns=['  Any suggestions for colleges, training institutes, or job platforms to help improve student and job-seeker readiness?  '],inplace=True,axis=1)"
   ]
  },
  {
   "cell_type": "code",
   "execution_count": 7,
   "id": "01bd3823",
   "metadata": {},
   "outputs": [],
   "source": [
    "# segregate categorical and numerical column\n",
    "numerical_col = df.select_dtypes(exclude=object)\n",
    "categorical_col = df.select_dtypes(include=object)"
   ]
  },
  {
   "cell_type": "code",
   "execution_count": 8,
   "id": "61c98be7",
   "metadata": {},
   "outputs": [
    {
     "data": {
      "text/plain": [
       "(81, 3)"
      ]
     },
     "execution_count": 8,
     "metadata": {},
     "output_type": "execute_result"
    }
   ],
   "source": [
    "numerical_col.shape"
   ]
  },
  {
   "cell_type": "code",
   "execution_count": 9,
   "id": "55919d76",
   "metadata": {},
   "outputs": [
    {
     "data": {
      "text/plain": [
       "(81, 12)"
      ]
     },
     "execution_count": 9,
     "metadata": {},
     "output_type": "execute_result"
    }
   ],
   "source": [
    "categorical_col.shape"
   ]
  },
  {
   "cell_type": "code",
   "execution_count": 10,
   "id": "f560b947",
   "metadata": {},
   "outputs": [],
   "source": [
    "# simple imputer\n",
    "from sklearn.impute import SimpleImputer\n",
    "si = SimpleImputer(strategy='most_frequent')\n",
    "\n",
    "for i in categorical_col.columns:\n",
    "    df[i] = si.fit_transform(df[[i]]).ravel()"
   ]
  },
  {
   "cell_type": "code",
   "execution_count": 11,
   "id": "b4671632",
   "metadata": {},
   "outputs": [
    {
     "data": {
      "text/html": [
       "<div>\n",
       "<style scoped>\n",
       "    .dataframe tbody tr th:only-of-type {\n",
       "        vertical-align: middle;\n",
       "    }\n",
       "\n",
       "    .dataframe tbody tr th {\n",
       "        vertical-align: top;\n",
       "    }\n",
       "\n",
       "    .dataframe thead th {\n",
       "        text-align: right;\n",
       "    }\n",
       "</style>\n",
       "<table border=\"1\" class=\"dataframe\">\n",
       "  <thead>\n",
       "    <tr style=\"text-align: right;\">\n",
       "      <th></th>\n",
       "      <th>Features</th>\n",
       "      <th>Count</th>\n",
       "      <th>Mean</th>\n",
       "      <th>Median</th>\n",
       "      <th>Q1</th>\n",
       "      <th>Q3</th>\n",
       "      <th>IQR</th>\n",
       "      <th>Std Devition</th>\n",
       "      <th>Skewness</th>\n",
       "      <th>Kurtosis</th>\n",
       "    </tr>\n",
       "  </thead>\n",
       "  <tbody>\n",
       "    <tr>\n",
       "      <th>0</th>\n",
       "      <td>How would you rate your technical skills</td>\n",
       "      <td>81</td>\n",
       "      <td>3.691358</td>\n",
       "      <td>4.0</td>\n",
       "      <td>3.0</td>\n",
       "      <td>4.0</td>\n",
       "      <td>1.0</td>\n",
       "      <td>0.735561</td>\n",
       "      <td>-0.403866</td>\n",
       "      <td>0.108012</td>\n",
       "    </tr>\n",
       "    <tr>\n",
       "      <th>1</th>\n",
       "      <td>How would you rate your communication skills</td>\n",
       "      <td>81</td>\n",
       "      <td>3.777778</td>\n",
       "      <td>4.0</td>\n",
       "      <td>3.0</td>\n",
       "      <td>4.0</td>\n",
       "      <td>1.0</td>\n",
       "      <td>0.689202</td>\n",
       "      <td>0.086999</td>\n",
       "      <td>-0.457347</td>\n",
       "    </tr>\n",
       "    <tr>\n",
       "      <th>2</th>\n",
       "      <td>How confident are you in attending interview...</td>\n",
       "      <td>81</td>\n",
       "      <td>3.666667</td>\n",
       "      <td>4.0</td>\n",
       "      <td>3.0</td>\n",
       "      <td>4.0</td>\n",
       "      <td>1.0</td>\n",
       "      <td>0.821584</td>\n",
       "      <td>-0.138664</td>\n",
       "      <td>0.255328</td>\n",
       "    </tr>\n",
       "  </tbody>\n",
       "</table>\n",
       "</div>"
      ],
      "text/plain": [
       "                                            Features  Count      Mean  Median  \\\n",
       "0         How would you rate your technical skills       81  3.691358     4.0   \n",
       "1      How would you rate your communication skills      81  3.777778     4.0   \n",
       "2    How confident are you in attending interview...     81  3.666667     4.0   \n",
       "\n",
       "    Q1   Q3  IQR  Std Devition  Skewness  Kurtosis  \n",
       "0  3.0  4.0  1.0      0.735561 -0.403866  0.108012  \n",
       "1  3.0  4.0  1.0      0.689202  0.086999 -0.457347  \n",
       "2  3.0  4.0  1.0      0.821584 -0.138664  0.255328  "
      ]
     },
     "execution_count": 11,
     "metadata": {},
     "output_type": "execute_result"
    }
   ],
   "source": [
    "# EDA\n",
    "from collections import OrderedDict\n",
    "stats = []\n",
    "\n",
    "for i in numerical_col.columns:\n",
    "    numerical_stats = OrderedDict({\n",
    "        'Features':i,\n",
    "        'Count':df[i].count(),\n",
    "        'Mean':df[i].mean(),\n",
    "        'Median':df[i].median(),\n",
    "        'Q1':df[i].quantile(0.25),\n",
    "        'Q3':df[i].quantile(0.75),\n",
    "        'IQR':df[i].quantile(0.75) - df[i].quantile(0.25),\n",
    "        'Std Devition':df[i].std(),\n",
    "        'Skewness':df[i].skew(),\n",
    "        'Kurtosis':df[i].kurt()\n",
    "    })\n",
    "    stats.append(numerical_stats)\n",
    "    report = pd.DataFrame(stats)\n",
    "report"
   ]
  },
  {
   "cell_type": "code",
   "execution_count": 12,
   "id": "4e1cfaa8",
   "metadata": {},
   "outputs": [],
   "source": [
    "# Label Encoder\n",
    "from sklearn.preprocessing import LabelEncoder\n",
    "le = LabelEncoder()\n",
    "\n",
    "for i in categorical_col.columns:\n",
    "    df[i] = le.fit_transform(df[i])"
   ]
  },
  {
   "cell_type": "markdown",
   "id": "aa87e46b",
   "metadata": {},
   "source": [
    "# ** Machine Learning **"
   ]
  },
  {
   "cell_type": "code",
   "execution_count": 13,
   "id": "5053addb",
   "metadata": {},
   "outputs": [],
   "source": [
    "# Split X and y\n",
    "X = df.drop(columns=['Do you feel your degree prepared you for jobs?'])\n",
    "y = df['Do you feel your degree prepared you for jobs?']"
   ]
  },
  {
   "cell_type": "code",
   "execution_count": 14,
   "id": "fe40c6fc",
   "metadata": {},
   "outputs": [],
   "source": [
    "# Train test split\n",
    "from sklearn.model_selection import train_test_split\n",
    "X_train,X_test,y_train,y_test = train_test_split(X,y,test_size=0.2,random_state=0)"
   ]
  },
  {
   "cell_type": "code",
   "execution_count": 15,
   "id": "a5cc6a49",
   "metadata": {},
   "outputs": [
    {
     "data": {
      "text/plain": [
       "Do you feel your degree prepared you for jobs?\n",
       "1    48\n",
       "0    21\n",
       "2    12\n",
       "Name: count, dtype: int64"
      ]
     },
     "execution_count": 15,
     "metadata": {},
     "output_type": "execute_result"
    }
   ],
   "source": [
    "# Target column values\n",
    "df['Do you feel your degree prepared you for jobs?'].value_counts()"
   ]
  },
  {
   "cell_type": "code",
   "execution_count": 16,
   "id": "f06b0025",
   "metadata": {},
   "outputs": [],
   "source": [
    "# Balance the imbalance data\n",
    "from imblearn.over_sampling import SMOTE\n",
    "sm = SMOTE()\n",
    "X_train,y_train = sm.fit_resample(X_train,y_train)"
   ]
  },
  {
   "cell_type": "code",
   "execution_count": 19,
   "id": "5c5aefd6",
   "metadata": {},
   "outputs": [
    {
     "data": {
      "text/plain": [
       "Do you feel your degree prepared you for jobs?\n",
       "1    38\n",
       "0    38\n",
       "2    38\n",
       "Name: count, dtype: int64"
      ]
     },
     "execution_count": 19,
     "metadata": {},
     "output_type": "execute_result"
    }
   ],
   "source": [
    "pd.Series(y_train).value_counts()"
   ]
  },
  {
   "cell_type": "code",
   "execution_count": 20,
   "id": "991ffc58",
   "metadata": {},
   "outputs": [],
   "source": [
    "# Scaling Technique\n",
    "from sklearn.preprocessing import RobustScaler\n",
    "RS = RobustScaler()\n",
    "X_test = RS.fit_transform(X_test)\n",
    "X_train = RS.transform(X_train)"
   ]
  },
  {
   "cell_type": "markdown",
   "id": "0c22cda3",
   "metadata": {},
   "source": [
    "# Model Building"
   ]
  },
  {
   "cell_type": "code",
   "execution_count": 22,
   "id": "88f74a85",
   "metadata": {},
   "outputs": [
    {
     "data": {
      "text/plain": [
       "0.47058823529411764"
      ]
     },
     "execution_count": 22,
     "metadata": {},
     "output_type": "execute_result"
    }
   ],
   "source": [
    "# Tree Based Algorithm\n",
    "from sklearn.ensemble import RandomForestClassifier\n",
    "from sklearn.metrics import accuracy_score\n",
    "RF = RandomForestClassifier().fit(X_train,y_train)\n",
    "y_pred_rf = RF.predict(X_test)\n",
    "accuracy_score(y_test,y_pred_rf)\n"
   ]
  },
  {
   "cell_type": "code",
   "execution_count": 24,
   "id": "86b7e7f0",
   "metadata": {},
   "outputs": [
    {
     "data": {
      "text/plain": [
       "0.47058823529411764"
      ]
     },
     "execution_count": 24,
     "metadata": {},
     "output_type": "execute_result"
    }
   ],
   "source": [
    "# Navie Bayes\n",
    "from sklearn.naive_bayes import BernoulliNB\n",
    "BNB = BernoulliNB().fit(X_train,y_train)\n",
    "y_pred_BNB = BNB.predict(X_test)\n",
    "accuracy_score(y_test,y_pred_BNB)"
   ]
  },
  {
   "cell_type": "code",
   "execution_count": 26,
   "id": "fe6365f3",
   "metadata": {},
   "outputs": [
    {
     "data": {
      "text/plain": [
       "0.47058823529411764"
      ]
     },
     "execution_count": 26,
     "metadata": {},
     "output_type": "execute_result"
    }
   ],
   "source": [
    "#KNN\n",
    "from sklearn.neighbors import KNeighborsClassifier\n",
    "KNN = KNeighborsClassifier().fit(X_train,y_train)\n",
    "y_pred_KNN = KNN.predict(X_test)\n",
    "accuracy_score(y_test,y_pred_KNN)"
   ]
  },
  {
   "cell_type": "code",
   "execution_count": 29,
   "id": "4ad276f8",
   "metadata": {},
   "outputs": [
    {
     "data": {
      "text/plain": [
       "0.47058823529411764"
      ]
     },
     "execution_count": 29,
     "metadata": {},
     "output_type": "execute_result"
    }
   ],
   "source": [
    "# SVM\n",
    "from sklearn.svm import SVC\n",
    "svc = SVC(degree= 3).fit(X_train,y_train)\n",
    "y_pred_svm = svc.predict(X_test)\n",
    "accuracy_score(y_test,y_pred_svm)"
   ]
  },
  {
   "cell_type": "code",
   "execution_count": 32,
   "id": "9f55142d",
   "metadata": {},
   "outputs": [
    {
     "data": {
      "image/png": "[encoded data removed]",
      "text/plain": [
       "<Figure size 640x480 with 2 Axes>"
      ]
     },
     "metadata": {},
     "output_type": "display_data"
    }
   ],
   "source": [
    "# confusion matrix\n",
    "from sklearn.metrics import confusion_matrix\n",
    "sns.heatmap(confusion_matrix(y_test,y_pred_svm),annot=True,cmap='BuPu')\n",
    "plt.xlabel(\"Actual Value\")\n",
    "plt.ylabel('Predicted Value')\n",
    "plt.show()"
   ]
  },
  {
   "cell_type": "code",
   "execution_count": 31,
   "id": "e7238602",
   "metadata": {},
   "outputs": [
    {
     "name": "stdout",
     "output_type": "stream",
     "text": [
      "              precision    recall  f1-score   support\n",
      "\n",
      "           0       1.00      0.20      0.33         5\n",
      "           1       0.64      0.70      0.67        10\n",
      "           2       0.00      0.00      0.00         2\n",
      "\n",
      "    accuracy                           0.47        17\n",
      "   macro avg       0.55      0.30      0.33        17\n",
      "weighted avg       0.67      0.47      0.49        17\n",
      "\n"
     ]
    }
   ],
   "source": [
    "# Classification Report\n",
    "from sklearn.metrics import classification_report\n",
    "print(classification_report(y_test,y_pred_svm))"
   ]
  }
 ],
 "metadata": {
  "kernelspec": {
   "display_name": "env",
   "language": "python",
   "name": "python3"
  },
  "language_info": {
   "codemirror_mode": {
    "name": "ipython",
    "version": 3
   },
   "file_extension": ".py",
   "mimetype": "text/x-python",
   "name": "python",
   "nbconvert_exporter": "python",
   "pygments_lexer": "ipython3",
   "version": "3.12.7"
  }
 },
 "nbformat": 4,
 "nbformat_minor": 5
}
